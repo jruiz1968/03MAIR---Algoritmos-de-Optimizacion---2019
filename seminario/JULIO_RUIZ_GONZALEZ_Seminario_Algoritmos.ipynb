{
  "nbformat": 4,
  "nbformat_minor": 0,
  "metadata": {
    "colab": {
      "name": "JULIO_RUIZ_GONZALEZ_Seminario_Algoritmos.ipynb",
      "provenance": [],
      "collapsed_sections": [],
      "include_colab_link": true
    },
    "kernelspec": {
      "display_name": "Python 3",
      "language": "python",
      "name": "python3"
    },
    "language_info": {
      "codemirror_mode": {
        "name": "ipython",
        "version": 3
      },
      "file_extension": ".py",
      "mimetype": "text/x-python",
      "name": "python",
      "nbconvert_exporter": "python",
      "pygments_lexer": "ipython3",
      "version": "3.7.3"
    }
  },
  "cells": [
    {
      "cell_type": "markdown",
      "metadata": {
        "id": "view-in-github",
        "colab_type": "text"
      },
      "source": [
        "<a href=\"https://colab.research.google.com/github/jruiz1968/03MAIR---Algoritmos-de-Optimizacion---2019/blob/master/seminario/JULIO_RUIZ_GONZALEZ_Seminario_Algoritmos.ipynb\" target=\"_parent\"><img src=\"https://colab.research.google.com/assets/colab-badge.svg\" alt=\"Open In Colab\"/></a>"
      ]
    },
    {
      "cell_type": "markdown",
      "metadata": {
        "colab_type": "text",
        "id": "hVbXYX-RfPWh"
      },
      "source": [
        "# Algoritmos de optimización - Seminario<br>\n",
        "Nombre y Apellidos: Julio Ruiz Gonzalez  <br>\n",
        "Url: https://github.com/.../03MAIR---Algoritmos-de-Optimizacion---2019/tree/master/SEMINARIO<br>\n",
        "Problema:\n",
        "> 1. Elección de grupos de población homogéneos <br>\n",
        ">2. Organizar los horarios de partidos de La Liga<br>\n",
        ">3. Combinar cifras y operaciones\n",
        "\n",
        "Descripción del problema:(copiar enunciado)\n",
        "\n",
        "...\n",
        "\n",
        "(*) La respuesta es obligatoria\n",
        "\n",
        "\n",
        "\n",
        "\n",
        "\n",
        "                                        "
      ]
    },
    {
      "cell_type": "code",
      "metadata": {
        "colab_type": "code",
        "id": "AiskKkzZfy4e",
        "colab": {}
      },
      "source": [
        "RESPUESTA(*)\n",
        "\n",
        "Problema 1. Elección de grupos de población homogéneos\n",
        "• Una productora ganadera nos encarga la tarea de seleccionar grupos de\n",
        "terneros para aplicar 3 tratamientos diferentes. Para cada uno de los\n",
        "tratamientos debemos seleccionar 3 grupos de terneros separados por sexos\n",
        "que sean lo mas homogéneos posible en peso para que en los resultados del\n",
        "tratamiento influya lo menos posible el peso del animal. Disponemos de una\n",
        "población de N animales entre machos y hembras.\n",
        "• Se solicita diseñar un algoritmo para conseguir una agrupación que cumpla de la mejor manera posible las especificaciones de la productora.\n",
        "\n",
        "Problema 1. Elección de grupos de población homogéneos\n",
        "• Aun se desconocen los datos concretos de los animales por lo que debemos\n",
        "trabajar con datos generados por nosotros de forma aleatoria. Lo que si nos\n",
        "proporcionan es una plantilla de los datos:\n",
        "• Hemos podido averiguar que el peso medio del ternero es 35kg con una\n",
        "desviación estándar de 3.1"
      ],
      "execution_count": 0,
      "outputs": []
    },
    {
      "cell_type": "markdown",
      "metadata": {
        "colab_type": "text",
        "id": "3_-exlrTgLd-"
      },
      "source": [
        "(*)¿Cuantas posibilidades hay sin tener en cuenta las restricciones?<br>\n",
        "\n",
        "\n",
        "\n",
        "¿Cuantas posibilidades hay teniendo en cuenta todas las restricciones.\n",
        "\n",
        "\n"
      ]
    },
    {
      "cell_type": "markdown",
      "metadata": {
        "colab_type": "text",
        "id": "WfCUqJyKhPcw"
      },
      "source": [
        "Respuesta"
      ]
    },
    {
      "cell_type": "code",
      "metadata": {
        "colab_type": "code",
        "id": "iq6Fe32MgpDX",
        "colab": {}
      },
      "source": [
        "RESPUESTA(*):\n",
        "Para saber el numero posible de soluciones sin restricciones partimos de la cantidad de animales que tengamos para hacer los grupos, por ejemplo tenemos N y necesitamos hacer grupos donde no importe la cantidad de terneros, el peso, y sexo, siendo el caso extremo donde se pone en tratamiento a todos los animales asi las posibilidades que darian tratamiento 1= N, tratamiento 2 = N, tratamiento 3 = N, en total N*N*N.\n",
        "\n",
        "RESPUESTA():\n",
        "Considerando las restricciones de peso, sexo del animal y la cantidad de terneros para formas los grupos, tenemos tres tratamientos con tres grupos de terneros, (N-3)(N-2)(N-1)."
      ],
      "execution_count": 0,
      "outputs": []
    },
    {
      "cell_type": "markdown",
      "metadata": {
        "colab_type": "text",
        "id": "dzynfVJahHoY"
      },
      "source": [
        "Modelo para el espacio de soluciones<br>\n",
        "(*) ¿Cual es la estructura de datos que mejor se adapta al problema? Argumentalo.(Es posible que hayas elegido una al principio y veas la necesidad de cambiar, arguentalo)\n"
      ]
    },
    {
      "cell_type": "markdown",
      "metadata": {
        "colab_type": "text",
        "id": "xFIJrOwKi2Ti"
      },
      "source": [
        "Respuesta"
      ]
    },
    {
      "cell_type": "code",
      "metadata": {
        "colab_type": "code",
        "id": "38c-7-ejhJmA",
        "colab": {}
      },
      "source": [
        "REPUESTA():\n",
        "Se genera una lista con los valores de peso de N cantidad de animales\n",
        "a un valor medio y una desviacion especifica:\n",
        "mu=35       ## peso medio en Kg\n",
        "sigma=3.1   ## desviacion estandar en Kg\n",
        "dato=np.random.normal(mu,sigma,27)#generar datos aleatorios\n",
        "\n",
        "La lista de datos se convierte a forma matricial para poder visualisar la\n",
        "distritubucion de pesos de cada animal:\n",
        "\n",
        "peso=np.array(dato).reshape(3,9)\n",
        "\n",
        "Con esta lista se hacen tres grupos homogeneos de animales, por su peso\n",
        "los formo sacando el peso medio de las columnas de la matriz:\n",
        "su=np.mean(peso,axis=0)\n",
        "\n",
        "Guardo los datos en tres sub matrices de peso.\n",
        "TA=[]\n",
        "for i in range(0,3):\n",
        "    TA.append(su[i])\n",
        "TB=[]\n",
        "for i in range(3,6):\n",
        "    TA.append(su[i])\n",
        "TC=[]\n",
        "for i in range(6,9):\n",
        "    TA.append(su[i])\n",
        "\n",
        "Se genera una lista donde esta el genero del animal minimizando su peso para\n",
        "determinar si es Hembra o Macho.\n",
        "    \n",
        "genero=macho_hembra(su,mu)\n",
        "\n",
        "se agrupan los datos  para tenerlos en forma matricial.\n",
        "gen=np.array(genero)\n",
        "\n",
        "Para facilitar se hacen tres submatrices de genero por cada grupo.\n",
        "\n",
        "Matriz de genero del grupo 1.\n",
        "Gen_TA=[]\n",
        "for i in range(0,3):\n",
        "    Gen_TA.append(gen[i])\n",
        "\n",
        "Matriz de genero del grupo 2.\n",
        "Gen_TB=[]\n",
        "for i in range(3,6):\n",
        "    Gen_TB.append(gen[i]) \n",
        "    \n",
        "Matriz de genero del grupo 3.\n",
        "\n",
        "Gen_TC=[]\n",
        "for i in range(6,9):\n",
        "    Gen_TC.append(gen[i]) \n",
        "\n",
        "Atraves de un diccionario de python se agrupan los datos de peso y genero como requerimiento para formar el grupo por tratamiento:\n",
        "\n",
        "dic1=dict(zip(TA,Gen_TA))\n",
        "Tratamiento_1=dic1.items()\n",
        "\n",
        "dic2=dict(zip(TB,Gen_TB))\n",
        "Tratamiento_2=dic2.items()\n",
        "\n",
        "dic3=dict(zip(TB,Gen_TB))\n",
        "Tratamiento_3=dic3.items()\n"
      ],
      "execution_count": 0,
      "outputs": []
    },
    {
      "cell_type": "markdown",
      "metadata": {
        "colab_type": "text",
        "id": "7Z9U2W7bi-XS"
      },
      "source": [
        "Según el modelo para el espacio de soluciones<br>\n",
        "(*)¿Cual es la función objetivo?\n",
        "\n",
        "(*)¿Es un problema de maximización o minimización?"
      ]
    },
    {
      "cell_type": "markdown",
      "metadata": {
        "colab_type": "text",
        "id": "hBalWLM7j1_d"
      },
      "source": [
        "Respuesta"
      ]
    },
    {
      "cell_type": "code",
      "metadata": {
        "colab_type": "code",
        "id": "pDA-rg3Gj5Lz",
        "colab": {}
      },
      "source": [
        "RESPUESTA(*)\n",
        "Funcion objetivo:\n",
        "es homogenizar la selecicion de grupos de terneros por\n",
        "peso medio = mu y desviacion estandar = sigma.\n",
        "para ello me valgo de generar el peso de una poblacion de forma aleatoria \n",
        "con distribucion normal donde los pesos cumplan con las restricciones\n",
        "indicadas. Se genera una poblacion de 27 animales los cuales seran repartidos\n",
        "en tres grupos separados por sexo y cada grupo formado de tres terneros\n",
        "por cada tratamiento.\n",
        "\n",
        "mu=35       ## peso medio en Kg\n",
        "sigma=3.1   ## desviacion estandar en Kg\n",
        "dato=np.random.normal(mu,sigma,27)#generar datos aleatorios\n",
        "\n",
        "def macho_hembra(dato,minimo) :\n",
        "    H='H'    #variable que indica Hembra.\n",
        "    M='M'    #variable que indica Macho.\n",
        "    genero=[]#lista donde se ubicara el sexo del animal.\n",
        "    for i in range(len(dato)):  \n",
        "       if dato[i]<= minimo:  #minimizar el peso promedio para determinar\n",
        "           genero.append(H)  #si es Hembra\n",
        "       else:\n",
        "           genero.append(M)  #si es Macho almacena el genero en la misma\n",
        "                            #posicion \n",
        "    return genero\n",
        "\n",
        "RESPUESTA():\n",
        "\n",
        "Es un problema de minimizacion ya que se tiene que cumplir \n",
        "con la restriccion del peso medio y desviacion estandar.\n"
      ],
      "execution_count": 0,
      "outputs": []
    },
    {
      "cell_type": "markdown",
      "metadata": {
        "colab_type": "text",
        "id": "rlnTYgY1j6I2"
      },
      "source": [
        "Diseña un algoritmo para resolver el problema por fuerza bruta"
      ]
    },
    {
      "cell_type": "markdown",
      "metadata": {
        "colab_type": "text",
        "id": "70rDgxYXkC8r"
      },
      "source": [
        "Respuesta"
      ]
    },
    {
      "cell_type": "code",
      "metadata": {
        "colab_type": "code",
        "id": "rvZWwL-ckRST",
        "colab": {}
      },
      "source": [
        "#importo las librerias que serviran de apoyo \n",
        "import numpy as np\n",
        "from random import randint, uniform,random\n",
        "from functools import wraps\n",
        "from time import time\n",
        "def calcular_tiempo(f):\n",
        "    @wraps(f)\n",
        "    def cronometro(*args, **kwargs):\n",
        "        t_inicial = time()\n",
        "        salida = f(*args, **kwargs)\n",
        "        t_final = time()\n",
        "        print('Tiempo transcurrido ( en segundos): {}'.format(t_final - t_inicial))\n",
        "        return salida\n",
        "    return cronometro"
      ],
      "execution_count": 0,
      "outputs": []
    },
    {
      "cell_type": "code",
      "metadata": {
        "id": "5cWjOaq7jFID",
        "colab_type": "code",
        "colab": {},
        "outputId": "28c7cdbd-b51c-40dc-900f-db7da57deedf"
      },
      "source": [
        "#@calcular_tiempo\n",
        "#genero la cantidad de poblacion de animales para fomar los grupos con \n",
        "#las restricciones dadas en el enunciado de forma aleatoria\n",
        "mu=35       ## peso medio en Kg\n",
        "sigma=3.1   ## desviacion estandar en Kg\n",
        "#Datasets de los pesos aleatorios de los animales.\n",
        "n=27\n",
        "dato=np.random.normal(mu,sigma,n)#generar una lista de datos aleatorios\n",
        "\n",
        "m=int(float(n/3))\n",
        "\n",
        "#convierto lista a forma matricial\n",
        "peso=np.array(dato).reshape(3,m)\n",
        "print('Matriz de peso medio de terneros')\n",
        "print('/////////////////////////////////////')\n",
        "print(peso)\n",
        "print('/////////////////////////////////////')\n",
        "print('Grupos de terneros por peso medio')\n",
        "# los grupos los formo tomando las columnas de la matriz verifico el peso promedio de los animales.\n",
        "su=np.mean(peso,axis=0)\n",
        "\n",
        "print(su)\n",
        "\n",
        "\n",
        "#formo sub-matrices de una dimension agrupandolas en grupos de tres\n",
        "#para este caso aunque pueden ser n.\n",
        "#lista de los pesos medios del primer grupo de terneros\n",
        "\n",
        "TA=[]\n",
        "for i in range(0,3):\n",
        "    TA.append(su[i])\n",
        "\n",
        "print(' Grupo Ternero 1    '   ,  'Grupo Ternero 2   '   , 'Grupo Ternero 3')\n",
        "\n",
        "#Pesos medios del segundo grupo de terneros\n",
        "\n",
        "TB=[]\n",
        "for i in range(3,6):\n",
        "    TB.append(su[i])\n",
        "\n",
        "#Pesos medios del tercer grupo de terneros    \n",
        "TC=[]\n",
        "for i in range(6,9):\n",
        "    TC.append(su[i])\n",
        "#imprimo los grupos para ver como quedan distribuidos\n",
        "\n",
        "print(TA)\n",
        "print(TB)\n",
        "print(TC)\n",
        "\n",
        "\n",
        "#funcion objetivo que parto de la premisa para separar los grupos por sexo\n",
        "#lo hago en funcion del peso del animal, si el peso del animal es menor \n",
        "#al peso promedio lo considero que es hembra y si es mayor al peso\n",
        "#promedio lo tomo como macho.\n",
        "#MINIMIZO el peso para determinar si los animales en base al peso son Hembras\n",
        "# o machos.\n",
        "@calcular_tiempo\n",
        "def macho_hembra(dato,minimo) :\n",
        "    H='H'    #variable que indica Hembra.\n",
        "    M='M'    #variable que indica Macho.\n",
        "    genero=[]#lista donde se ubicara el sexo del animal.\n",
        "    for i in range(len(dato)):  \n",
        "       if dato[i]<= minimo:  #minimizar el peso promedio para determinar\n",
        "           genero.append(H)  #si es Hembra\n",
        "       else:\n",
        "           genero.append(M)  #si es Macho almacena el genero en la misma\n",
        "                            #posicion \n",
        "    return genero\n",
        "#lista de animales ubicados por sexo de acuerdo a su peso medio.\n",
        "genero=macho_hembra(su,mu)\n",
        "#se combierte la lista a una matriz.\n",
        "gen=np.array(genero)\n",
        "\n",
        "#Agrupo por peso y sexo, grupo1.\n",
        "Gen_TA=[]\n",
        "for i in range(0,3):\n",
        "    Gen_TA.append(gen[i])\n",
        "\n",
        "#Agrupo por peso y sexo, grupo2.\n",
        "\n",
        "Gen_TB=[]\n",
        "for i in range(3,6):\n",
        "    Gen_TB.append(gen[i])\n",
        "\n",
        "#Agrupo por peso y sexo, grupo3.\n",
        "\n",
        "Gen_TC=[]\n",
        "for i in range(6,9):\n",
        "    Gen_TC.append(gen[i])\n",
        "\n",
        "\n",
        "# Los datos de peso y sexo se agrupan por medio de un diccionario,\n",
        "# para el tratamiento 1.\n",
        "\n",
        "dic1=dict(zip(TA,Gen_TA))\n",
        "Tratamiento_1=dic1.items()\n",
        "\n",
        "# Los datos de peso y sexo se agrupan por medio de un diccionario,\n",
        "# para el tratamiento 2.\n",
        "dic2=dict(zip(TB,Gen_TB))\n",
        "Tratamiento_2=dic2.items()\n",
        "\n",
        "# Los datos de peso y sexo se agrupan por medio de un diccionario,\n",
        "# para el tratamiento 3.\n",
        "dic3=dict(zip(TC,Gen_TC))\n",
        "Tratamiento_3=dic3.items()\n",
        "\n",
        "print('////////     Tratamiento, agrupados por peso y sexo     //////')\n",
        "\n",
        "print('          Tratamiento 1              '   ,  ' Tratamiento 2       '   , 'Tratamiento 3')\n",
        "print('          Grupo Ternero 1              '   ,  'Grupo Ternero 2       '   , 'Grupo Ternero 3')\n",
        "print(Tratamiento_1)\n",
        "print(Tratamiento_2)\n",
        "print(Tratamiento_3)\n"
      ],
      "execution_count": 0,
      "outputs": [
        {
          "output_type": "stream",
          "text": [
            "Matriz de peso medio de terneros\n",
            "/////////////////////////////////////\n",
            "[[39.85539583 34.70344256 28.39364022 35.65249924 37.30910077 37.11385773\n",
            "  31.32060824 32.60378518 32.9249795 ]\n",
            " [40.47989949 35.40859749 40.49758656 36.09999535 36.33826033 33.22645561\n",
            "  35.8263346  30.19716865 38.89753095]\n",
            " [37.61957695 30.34198937 35.58406469 43.53112312 31.63311451 34.59368125\n",
            "  38.14859477 36.38115817 36.45615249]]\n",
            "/////////////////////////////////////\n",
            "Grupos de terneros por peso medio\n",
            "[39.31829076 33.48467647 34.82509715 38.42787257 35.09349187 34.9779982\n",
            " 35.09851254 33.060704   36.09288765]\n",
            " Grupo Ternero 1     Grupo Ternero 2    Grupo Ternero 3\n",
            "[39.31829075880788, 33.48467647458336, 34.825097154757]\n",
            "[38.42787257028991, 35.09349187140108, 34.977998195526226]\n",
            "[35.09851253834801, 33.06070400032533, 36.092887648183215]\n",
            "Tiempo transcurrido ( en segundos): 0.0\n",
            "////////     Tratamiento, agrupados por peso y sexo     //////\n",
            "          Tratamiento 1                Tratamiento 2        Tratamiento 3\n",
            "          Grupo Ternero 1               Grupo Ternero 2        Grupo Ternero 3\n",
            "dict_items([(39.31829075880788, 'M'), (33.48467647458336, 'H'), (34.825097154757, 'H')])\n",
            "dict_items([(38.42787257028991, 'M'), (35.09349187140108, 'M'), (34.977998195526226, 'H')])\n",
            "dict_items([(35.09851253834801, 'M'), (33.06070400032533, 'H'), (36.092887648183215, 'M')])\n"
          ],
          "name": "stdout"
        }
      ]
    },
    {
      "cell_type": "code",
      "metadata": {
        "id": "LjOtY3TOjFIK",
        "colab_type": "code",
        "colab": {},
        "outputId": "a8bddcda-a818-41b4-ab1c-ace5f872cb3c"
      },
      "source": [
        "print(len(dato))"
      ],
      "execution_count": 0,
      "outputs": [
        {
          "output_type": "stream",
          "text": [
            "27\n"
          ],
          "name": "stdout"
        }
      ]
    },
    {
      "cell_type": "markdown",
      "metadata": {
        "colab_type": "text",
        "id": "eGDB4K6uk1iN"
      },
      "source": [
        "(*)Calcula la complejidad del algoritmo "
      ]
    },
    {
      "cell_type": "markdown",
      "metadata": {
        "colab_type": "text",
        "id": "hLrVwt5QkZPD"
      },
      "source": [
        "Respuesta"
      ]
    },
    {
      "cell_type": "code",
      "metadata": {
        "colab_type": "code",
        "id": "m1eyM21Vkabg",
        "colab": {}
      },
      "source": [
        "RESPUESTA(*):\n",
        "\n",
        "CALCULO OPERACINES ELEMENTALES\n",
        "                                            COMPLEJIDAD\n",
        "lista= peso promedio, con desviacion.       ## O(1) \n",
        "\n",
        "for i in range(0,3)                         ## O(1) \n",
        "\n",
        "for i in range(3,6)                         ## O(1) \n",
        "\n",
        "for i in range(6,9)                         ## O(1) \n",
        "\n",
        "#metodo macho_hembra(dato, minimo)          ## O(1) \n",
        "    for i in range(len(dato)):              ## O(n) \n",
        "       if dato[i] <= minimo                 ##  O(1)\n",
        "           genero.append(H) \n",
        "       else                                 ## O(1) \n",
        "           genero.append(M) \n",
        "           \n",
        "\n",
        "lista= sexo del ternero.                     ## O(1) asignacion\n",
        "\n",
        "for i in range(0,3)                          ## O(1) asignaciones \n",
        "\n",
        "for i in range(3,6)                          ## O(1) asignaciones \n",
        "\n",
        "for i in range(6,9)                          ## O(1) asignaciones \n",
        "                                           _______________________\n",
        "                                           \n",
        "                                    Total 8*O(1) + O(1)*O(1)*O(1)*O(n)---> O(n)\n"
      ],
      "execution_count": 0,
      "outputs": []
    },
    {
      "cell_type": "markdown",
      "metadata": {
        "colab_type": "text",
        "id": "txbrmLmskReM"
      },
      "source": [
        "(*)Diseña un algoritmo que mejore la complejidad del algortimo por fuerza bruta. Argumenta porque crees que mejora el algoritmo por fuerza bruta"
      ]
    },
    {
      "cell_type": "code",
      "metadata": {
        "id": "7oej8MBkjFIa",
        "colab_type": "code",
        "colab": {},
        "outputId": "76c50d55-5da3-4135-8044-7dec0d54024d"
      },
      "source": [
        "#la cantidad de poblacion de animales para fomar los grupos con \n",
        "#las restricciones dadas en el enunciado de forma aleatoria\n",
        "mu=35       ## peso medio en Kg\n",
        "sigma=3.1   ## desviacion estandar en Kg\n",
        "#Datasets de los pesos aleatorios de los animales.\n",
        "n=27\n",
        "dato=np.random.normal(mu,sigma,n)#generar una lista de datos aleatorios\n",
        "\n",
        "m=int(float(n/3))\n",
        "\n",
        "#convierto lista a forma matricial\n",
        "peso=np.array(dato).reshape(3,m)\n",
        "print('Matriz de peso medio de terneros')\n",
        "print('/////////////////////////////////////')\n",
        "print(peso)\n",
        "print('/////////////////////////////////////')\n",
        "print('Grupos de terneros por peso medio')\n",
        "# los grupos los formo tomando las columnas de la matriz verifico el peso promedio de los animales.\n",
        "su=np.mean(peso,axis=0)\n",
        "\n",
        "print(su)\n",
        "\n",
        "\n",
        "#formo sub-matrices de una dimension agrupandolas en grupos de tres\n",
        "#para este caso aunque pueden ser n.\n",
        "#lista de los pesos medios del primer grupo de terneros\n",
        "\n",
        "TA=[]\n",
        "for i in range(0,3):\n",
        "    TA.append(su[i])\n",
        "\n",
        "print(' Grupo Ternero 1    '   ,  'Grupo Ternero 2   '   , 'Grupo Ternero 3')\n",
        "\n",
        "#Pesos medios del segundo grupo de terneros\n",
        "\n",
        "TB=[]\n",
        "for i in range(3,6):\n",
        "    TB.append(su[i])\n",
        "\n",
        "#Pesos medios del tercer grupo de terneros    \n",
        "TC=[]\n",
        "for i in range(6,9):\n",
        "    TC.append(su[i])\n",
        "#imprimo los grupos para ver como quedan distribuidos\n",
        "\n",
        "print(TA)\n",
        "print(TB)\n",
        "print(TC)\n",
        "\n",
        "\n",
        "#funcion objetivo que parto de la premisa para separar los grupos por sexo\n",
        "#lo hago en funcion del peso del animal, si el peso del animal es menor \n",
        "#al peso promedio lo considero que es hembra y si es mayor al peso\n",
        "#promedio lo tomo como macho.\n",
        "#MINIMIZO el peso para determinar si los animales en base al peso son Hembras\n",
        "# o machos.\n",
        "@calcular_tiempo\n",
        "def macho_hembra(dato,minimo) :\n",
        "    H='H'    #variable que indica Hembra.\n",
        "    M='M'    #variable que indica Macho.\n",
        "    genero=[]#lista donde se ubicara el sexo del animal.\n",
        "    i=0\n",
        "    while i <(len(dato)):  \n",
        "       if dato[i]<= minimo:  #minimizar el peso promedio para determinar\n",
        "           genero.append(H)  #si es Hembra\n",
        "       else:\n",
        "           genero.append(M)  #si es Macho almacena el genero en la misma\n",
        "       i=i+1                     #posicion \n",
        "    return genero\n",
        "#lista de animales ubicados por sexo de acuerdo a su peso medio.\n",
        "genero=macho_hembra(su,mu)\n",
        "#se combierte la lista a una matriz.\n",
        "gen=np.array(genero)\n",
        "\n",
        "#Agrupo por peso y sexo, grupo1.\n",
        "Gen_TA=[]\n",
        "for i in range(0,3):\n",
        "    Gen_TA.append(gen[i])\n",
        "\n",
        "#Agrupo por peso y sexo, grupo2.\n",
        "\n",
        "Gen_TB=[]\n",
        "for i in range(3,6):\n",
        "    Gen_TB.append(gen[i])\n",
        "\n",
        "#Agrupo por peso y sexo, grupo3.\n",
        "\n",
        "Gen_TC=[]\n",
        "for i in range(6,9):\n",
        "    Gen_TC.append(gen[i])\n",
        "\n",
        "\n",
        "# Los datos de peso y sexo se agrupan por medio de un diccionario,\n",
        "# para el tratamiento 1.\n",
        "\n",
        "dic1=dict(zip(TA,Gen_TA))\n",
        "Tratamiento_1=dic1.items()\n",
        "\n",
        "# Los datos de peso y sexo se agrupan por medio de un diccionario,\n",
        "# para el tratamiento 2.\n",
        "dic2=dict(zip(TB,Gen_TB))\n",
        "Tratamiento_2=dic2.items()\n",
        "\n",
        "# Los datos de peso y sexo se agrupan por medio de un diccionario,\n",
        "# para el tratamiento 3.\n",
        "dic3=dict(zip(TC,Gen_TC))\n",
        "Tratamiento_3=dic3.items()\n",
        "\n",
        "print('////////     Tratamiento, agrupados por peso y sexo     //////')\n",
        "\n",
        "print('          Tratamiento 1              '   ,  ' Tratamiento 2       '   , 'Tratamiento 3')\n",
        "print('          Grupo Ternero 1              '   ,  'Grupo Ternero 2       '   , 'Grupo Ternero 3')\n",
        "print(Tratamiento_1)\n",
        "print(Tratamiento_2)\n",
        "print(Tratamiento_3)"
      ],
      "execution_count": 0,
      "outputs": [
        {
          "output_type": "stream",
          "text": [
            "Matriz de peso medio de terneros\n",
            "/////////////////////////////////////\n",
            "[[35.53831467 36.15164677 36.39993873 36.75032403 33.02919523 34.83011093\n",
            "  35.18233829 39.73182909 39.92746926]\n",
            " [32.59118101 36.15799832 40.61925736 36.13899886 34.65396964 37.09486281\n",
            "  33.99439554 33.56945491 39.02177603]\n",
            " [32.30085855 37.17192117 33.63838918 34.38819272 38.92421892 34.37890833\n",
            "  30.99742079 37.3769283  33.52494792]]\n",
            "/////////////////////////////////////\n",
            "Grupos de terneros por peso medio\n",
            "[33.47678474 36.49385542 36.88586176 35.75917187 35.5357946  35.43462736\n",
            " 33.39138487 36.89273743 37.49139774]\n",
            " Grupo Ternero 1     Grupo Ternero 2    Grupo Ternero 3\n",
            "[33.476784743723535, 36.493855419008945, 36.88586175685305]\n",
            "[35.75917186765009, 35.535794595264015, 35.434627357195225]\n",
            "[33.39138487398578, 36.892737432884566, 37.49139773781661]\n",
            "Tiempo transcurrido ( en segundos): 0.0\n",
            "////////     Tratamiento, agrupados por peso y sexo     //////\n",
            "          Tratamiento 1                Tratamiento 2        Tratamiento 3\n",
            "          Grupo Ternero 1               Grupo Ternero 2        Grupo Ternero 3\n",
            "dict_items([(33.476784743723535, 'H'), (36.493855419008945, 'M'), (36.88586175685305, 'M')])\n",
            "dict_items([(35.75917186765009, 'M'), (35.535794595264015, 'M'), (35.434627357195225, 'M')])\n",
            "dict_items([(33.39138487398578, 'H'), (36.892737432884566, 'M'), (37.49139773781661, 'M')])\n"
          ],
          "name": "stdout"
        }
      ]
    },
    {
      "cell_type": "markdown",
      "metadata": {
        "colab_type": "text",
        "id": "PcrL3-zRjFIf"
      },
      "source": [
        "(*)Calcula la complejidad del algoritmo "
      ]
    },
    {
      "cell_type": "markdown",
      "metadata": {
        "colab_type": "text",
        "id": "NhpTh_BPk1ms"
      },
      "source": [
        "Respuesta"
      ]
    },
    {
      "cell_type": "code",
      "metadata": {
        "colab_type": "code",
        "id": "nREzhkStlCq8",
        "colab": {}
      },
      "source": [
        "SPUESTA(*):\n",
        "\n",
        "CALCULO OPERACINES ELEMENTALES\n",
        "                                           COMPLEJIDAD\n",
        "lista= peso promedio, con desviacion.       ## O(1) \n",
        "\n",
        "for i in range(0,3)                         ## O(1) \n",
        "\n",
        "for i in range(3,6)                         ## O(1) \n",
        "\n",
        "for i in range(6,9)                         ## O(1) \n",
        "\n",
        "#metodo macho_hembra(dato, minimo)          ## O(1) \n",
        "    while i <(len(dato)):                   ## log(n) \n",
        "       if dato[i] <= minimo                 ## O(1)  \n",
        "           genero.append(H) \n",
        "       else                                 ## O(1)\n",
        "           genero.append(M) \n",
        "           \n",
        "\n",
        "lista= sexo del ternero.                     ## O(1)\n",
        "\n",
        "for i in range(0,3)                          ## O(1) \n",
        "\n",
        "for i in range(3,6)                          ## O(1)\n",
        "\n",
        "for i in range(6,9)                          ## O(1) \n",
        "                                           _______________________\n",
        "                                           \n",
        "                                   tal 8*O(1)+O(1)*O(1)*O(1)* log(n)--->O(logn)\n"
      ],
      "execution_count": 0,
      "outputs": []
    },
    {
      "cell_type": "markdown",
      "metadata": {
        "id": "PCdS3PRUjFIp",
        "colab_type": "text"
      },
      "source": [
        "RESPUESTA:\n",
        "LA COMPLEJIDAD DEL ALGORITMO POR FUERZA BRUTA SE VE MEJORDA AL CAMBIAR LA COMPLEJIDAD DEL BUCLE FOR QUE ES DE ORDEN LINEAL EN ESTE CASO, EL BUCLE WHILE ESTE ES DE COMPLEJIDAD LOGARITMICA EN EL ALGORITMO QUE MEJORA AL COMPLEJIDAD."
      ]
    },
    {
      "cell_type": "markdown",
      "metadata": {
        "colab_type": "text",
        "id": "3M6QjTsSkmYe"
      },
      "source": [
        "Según el problema (y tenga sentido), diseña un juego de datos de entrada aleatorios"
      ]
    },
    {
      "cell_type": "markdown",
      "metadata": {
        "colab_type": "text",
        "id": "Jc3_OlyNkvjZ"
      },
      "source": [
        "Respuesta"
      ]
    },
    {
      "cell_type": "code",
      "metadata": {
        "colab_type": "code",
        "id": "sJ-N2etjkyWc",
        "colab": {}
      },
      "source": [
        "RESPUESTA():\n",
        "#genero la cantidad de poblacion de animales para fomar los grupos con \n",
        "#las restricciones dadas en el enunciado de forma aleatoria\n",
        "\n",
        "mu=35                               ## peso medio en Kg\n",
        "sigma=3.1                           ## desviacion estandar en Kg\n",
        "#funcion generadora de los pesos aleatorios de los animales.\n",
        "\n",
        "dato=np.random.normal(mu,sigma,27)  #generar una lista de datos aleatorios"
      ],
      "execution_count": 0,
      "outputs": []
    },
    {
      "cell_type": "markdown",
      "metadata": {
        "colab_type": "text",
        "id": "zy5ZROmjlGo1"
      },
      "source": [
        "Aplica el algoritmo al juego de datos generado"
      ]
    },
    {
      "cell_type": "markdown",
      "metadata": {
        "colab_type": "text",
        "id": "_Cmj-PVylMsa"
      },
      "source": [
        "Respuesta"
      ]
    },
    {
      "cell_type": "code",
      "metadata": {
        "colab_type": "code",
        "id": "Jkx8GeiYlUz1",
        "colab": {}
      },
      "source": [
        "REPUESTA():\n",
        "La solucion al problema desde un inicio lo lleve a cabo usando valores \n",
        "aleatorios."
      ],
      "execution_count": 0,
      "outputs": []
    },
    {
      "cell_type": "markdown",
      "metadata": {
        "colab_type": "text",
        "id": "eTFWUJQrtGcv"
      },
      "source": [
        "Enumera las referencias que has utilizado(si ha sido necesario) para llevar a cabo el trabajo"
      ]
    },
    {
      "cell_type": "markdown",
      "metadata": {
        "colab_type": "text",
        "id": "YKQ_mRBttWsP"
      },
      "source": [
        "Respuesta"
      ]
    },
    {
      "cell_type": "markdown",
      "metadata": {
        "id": "Gpq2EnOrjFI6",
        "colab_type": "text"
      },
      "source": [
        "https://rootear.com/desarrollo/complejidades-algoritmos\n",
        "\n",
        "https://www.monografias.com/trabajos27/complejidad-algoritmica/complejidad-algoritmica.shtml\n",
        "https://ocw.unican.es/pluginfile.php/1246/course/section/1539/Recursivos.pdf\n"
      ]
    },
    {
      "cell_type": "markdown",
      "metadata": {
        "colab_type": "text",
        "id": "kAkDPUyRtYyH"
      },
      "source": [
        "Describe brevemente las lineas de como crees que es posible avanzar en el estudio del problema. Ten en cuenta incluso posibles variaciones del problema y/o variaciones al alza del tamaño"
      ]
    },
    {
      "cell_type": "markdown",
      "metadata": {
        "colab_type": "text",
        "id": "IE0uZmo-tZu-"
      },
      "source": [
        "Respuesta"
      ]
    },
    {
      "cell_type": "markdown",
      "metadata": {
        "id": "c_bXDi5zjFJA",
        "colab_type": "text"
      },
      "source": [
        "UNA VARIANTE PODRIA SER AGRUPAR INDISTINTAMENTE POR GENERO HACER MEZCLAS Y SOLO PONER LA RESTRICCION DEL PESO DEL ANIMAL CON SU RESPECTIVA DESVIACION."
      ]
    }
  ]
}
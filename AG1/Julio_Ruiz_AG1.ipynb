{
  "nbformat": 4,
  "nbformat_minor": 0,
  "metadata": {
    "colab": {
      "name": "Julio Ruiz - AG1.ipynb",
      "version": "0.3.2",
      "provenance": [],
      "collapsed_sections": [],
      "include_colab_link": true
    },
    "kernelspec": {
      "name": "python3",
      "display_name": "Python 3"
    }
  },
  "cells": [
    {
      "cell_type": "markdown",
      "metadata": {
        "id": "view-in-github",
        "colab_type": "text"
      },
      "source": [
        "<a href=\"https://colab.research.google.com/github/jruiz1968/03MAIR---Algoritmos-de-Optimizacion---2019/blob/master/AG1/Julio_Ruiz_AG1.ipynb\" target=\"_parent\"><img src=\"https://colab.research.google.com/assets/colab-badge.svg\" alt=\"Open In Colab\"/></a>"
      ]
    },
    {
      "cell_type": "code",
      "metadata": {
        "id": "b1wR2rmGARp8",
        "colab_type": "code",
        "colab": {}
      },
      "source": [
        ""
      ],
      "execution_count": 0,
      "outputs": []
    },
    {
      "cell_type": "markdown",
      "metadata": {
        "id": "FPU1aTRBMJFo",
        "colab_type": "text"
      },
      "source": [
        "Actividad Guiada 1 - AG1\n",
        "Julio Ruiz\n",
        "https://colab.research.google.com/drive/1Pjivr9VGlq8hxzy6UHDQNnG-P0dttkY8"
      ]
    },
    {
      "cell_type": "markdown",
      "metadata": {
        "id": "CMlWQjKebFWK",
        "colab_type": "text"
      },
      "source": [
        "Ordenacion por quick Sort con tecnica divide y venceras"
      ]
    },
    {
      "cell_type": "code",
      "metadata": {
        "id": "Fmx0uUy6OHcu",
        "colab_type": "code",
        "colab": {}
      },
      "source": [
        "from functools import wraps\n",
        "from time import time\n",
        "def calcular_tiempo(f):\n",
        "    @wraps(f)  \n",
        "    def cronometro(*args, **kwargs):\n",
        "        t_inicial = time()\n",
        "        salida = f(*args, **kwargs)\n",
        "        t_final = time()\n",
        "        print('Tiempo transcurrido ( en segundos): {}'.format(t_final - t_inicial))\n",
        "        return salida\n",
        "    return cronometro   \n",
        "  \n",
        "import random"
      ],
      "execution_count": 0,
      "outputs": []
    },
    {
      "cell_type": "code",
      "metadata": {
        "id": "yq_s7YpCSnPd",
        "colab_type": "code",
        "colab": {
          "base_uri": "https://localhost:8080/",
          "height": 72
        },
        "outputId": "38238d5a-ae40-4bbe-9081-0fb03fccb5e8"
      },
      "source": [
        "A= [9187, 244, 4054, 9222, 8373, 4993, 5265, 5470, 4519, 7182, 2035, 3506, 4337, 7580, 2554, 2824, 8357, 4447, 7379]\n",
        "A= list(map(lambda x: random.randrange(1,10000), range(1,300)))\n",
        "\n",
        "\n",
        "def quick_sort(A):\n",
        "  if len(A)<=1:\n",
        "    return A\n",
        "  if len(A)==2:\n",
        "    return [min(A),max(A)]\n",
        "  \n",
        "  \n",
        "  pivote =( A[0]+ A[1]+ A[2])/3\n",
        "  \n",
        "  IZQ = []\n",
        "  DER = []\n",
        "  \n",
        "  for n in A:\n",
        "    if n < pivote :\n",
        "      IZQ.append(n)\n",
        "    else:\n",
        "      DER.append(n)\n",
        "  return quick_sort(IZQ) + quick_sort(DER)   \n",
        "  \n",
        "@calcular_tiempo\n",
        "def ordenar (A):\n",
        "   print( quick_sort(A))\n",
        "    \n",
        "ordenar(A)\n",
        "  "
      ],
      "execution_count": 21,
      "outputs": [
        {
          "output_type": "stream",
          "text": [
            "[60, 87, 159, 205, 238, 257, 297, 308, 319, 329, 346, 364, 384, 452, 513, 598, 652, 723, 803, 893, 936, 951, 1060, 1062, 1109, 1124, 1173, 1176, 1210, 1299, 1307, 1324, 1340, 1342, 1363, 1373, 1392, 1422, 1427, 1452, 1580, 1605, 1608, 1673, 1688, 1689, 1704, 1740, 1838, 1901, 1967, 1971, 2041, 2044, 2095, 2102, 2133, 2148, 2158, 2170, 2247, 2302, 2306, 2341, 2354, 2425, 2528, 2539, 2589, 2589, 2595, 2612, 2666, 2692, 2767, 2781, 2797, 2861, 2917, 2933, 2968, 2986, 3023, 3122, 3130, 3149, 3232, 3303, 3309, 3378, 3457, 3498, 3526, 3529, 3595, 3701, 3709, 3731, 3838, 3909, 3949, 3964, 3982, 4009, 4019, 4140, 4153, 4209, 4216, 4234, 4237, 4237, 4266, 4276, 4292, 4336, 4404, 4413, 4434, 4450, 4464, 4466, 4580, 4592, 4704, 4717, 4820, 4826, 4850, 4904, 4936, 5019, 5065, 5085, 5153, 5166, 5167, 5176, 5217, 5290, 5327, 5384, 5432, 5447, 5468, 5475, 5508, 5521, 5567, 5594, 5622, 5669, 5702, 5710, 5717, 5733, 5740, 5750, 5796, 5854, 5888, 5905, 5942, 5945, 5951, 6018, 6144, 6174, 6321, 6333, 6374, 6408, 6469, 6492, 6572, 6597, 6628, 6688, 6703, 6721, 6731, 6733, 6749, 6774, 6805, 6808, 6876, 6878, 6882, 6927, 6943, 7048, 7063, 7077, 7086, 7095, 7096, 7103, 7124, 7139, 7212, 7238, 7250, 7256, 7271, 7341, 7345, 7378, 7380, 7429, 7490, 7506, 7528, 7553, 7641, 7659, 7670, 7689, 7715, 7729, 7733, 7761, 7845, 7887, 7941, 7984, 8017, 8037, 8045, 8154, 8156, 8183, 8189, 8194, 8194, 8261, 8333, 8419, 8426, 8500, 8524, 8574, 8598, 8610, 8643, 8648, 8661, 8683, 8744, 8752, 8765, 8799, 8803, 8806, 8837, 8865, 8880, 8883, 8885, 8903, 8939, 8958, 8980, 8988, 9024, 9026, 9063, 9126, 9189, 9202, 9214, 9288, 9364, 9374, 9398, 9415, 9463, 9468, 9487, 9519, 9559, 9559, 9580, 9593, 9614, 9642, 9662, 9677, 9677, 9702, 9713, 9727, 9735, 9760, 9772, 9903, 9913, 9921, 9955]\n",
            "Tiempo transcurrido ( en segundos): 0.0040435791015625\n"
          ],
          "name": "stdout"
        }
      ]
    },
    {
      "cell_type": "markdown",
      "metadata": {
        "id": "bF6gKHjjLyZj",
        "colab_type": "text"
      },
      "source": [
        "Algoritmo voraz con python"
      ]
    },
    {
      "cell_type": "code",
      "metadata": {
        "id": "hYbm0YHfHcXz",
        "colab_type": "code",
        "colab": {
          "base_uri": "https://localhost:8080/",
          "height": 52
        },
        "outputId": "1d3a5afe-391d-440b-f514-9c2a89c2acff"
      },
      "source": [
        "SISTEMA = [25, 10, 5, 1]\n",
        "@calcular_tiempo\n",
        "def cambio_monedas(CANTIDAD, SISTEMA):\n",
        "  SOLUCION = [0 for i in range(len(SISTEMA))]\n",
        "  \n",
        "  VALOR_ACUMULADO = 0\n",
        "  \n",
        "  for i in range(len(SISTEMA)):\n",
        "    monedas = int ((CANTIDAD - VALOR_ACUMULADO)/SISTEMA[i])\n",
        "    SOLUCION[i]=monedas\n",
        "    VALOR_ACUMULADO = VALOR_ACUMULADO + monedas*SISTEMA[i]\n",
        "    \n",
        "    if VALOR_ACUMULADO == CANTIDAD:\n",
        "       return SOLUCION\n",
        "    \n",
        "print (cambio_monedas(23,SISTEMA))   "
      ],
      "execution_count": 25,
      "outputs": [
        {
          "output_type": "stream",
          "text": [
            "Tiempo transcurrido ( en segundos): 8.344650268554688e-06\n",
            "[0, 2, 0, 3]\n"
          ],
          "name": "stdout"
        }
      ]
    },
    {
      "cell_type": "markdown",
      "metadata": {
        "id": "Fp4jDAM4MC_H",
        "colab_type": "text"
      },
      "source": [
        "Tecnica vuelta a tras N reinas con Python"
      ]
    },
    {
      "cell_type": "code",
      "metadata": {
        "id": "-qZ-bWzeMHoF",
        "colab_type": "code",
        "colab": {
          "base_uri": "https://localhost:8080/",
          "height": 52
        },
        "outputId": "b64bf8e0-d81a-4200-93e4-d3faf6ad46d0"
      },
      "source": [
        "def es_prometedora(SOLUCION , etapa):\n",
        "  for i in range(etapa+1):\n",
        "    if SOLUCION.count(SOLUCION[i]) >1:\n",
        "      return False\n",
        "    \n",
        "    for j in range (i+1, etapa+1):\n",
        "      if abs(i-j)== abs(SOLUCION[i]- SOLUCION[j]):\n",
        "        return False\n",
        "  return True\n",
        "\n",
        "def reinas (N, solucion =[], etapa= 0):\n",
        "  if len(solucion) == 0:\n",
        "    solucion = [ 0 for i in range(N)]\n",
        "    \n",
        "  for i in range (1, N+1):\n",
        "    solucion[etapa] = i\n",
        "    \n",
        "    if es_prometedora(solucion, etapa):\n",
        "      if etapa == N-1 :\n",
        "          print(\"La solucion es:\")\n",
        "          print(solucion) \n",
        "      \n",
        "      else:\n",
        "      \n",
        "       reinas (N,solucion,etapa+1)\n",
        "        \n",
        "    else:\n",
        "      \n",
        "      None\n",
        "      \n",
        "reinas(4)"
      ],
      "execution_count": 34,
      "outputs": [
        {
          "output_type": "stream",
          "text": [
            "La solucion es:\n",
            "[3, 1, 4, 2]\n"
          ],
          "name": "stdout"
        }
      ]
    },
    {
      "cell_type": "code",
      "metadata": {
        "id": "XNruen53LLOJ",
        "colab_type": "code",
        "colab": {}
      },
      "source": [
        ""
      ],
      "execution_count": 0,
      "outputs": []
    }
  ]
}
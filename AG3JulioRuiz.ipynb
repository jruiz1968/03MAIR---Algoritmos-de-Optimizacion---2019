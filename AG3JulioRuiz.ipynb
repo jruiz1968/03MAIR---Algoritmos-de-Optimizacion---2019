{
  "nbformat": 4,
  "nbformat_minor": 0,
  "metadata": {
    "colab": {
      "name": "AG3JulioRuiz.ipynb",
      "version": "0.3.2",
      "provenance": [],
      "collapsed_sections": [],
      "include_colab_link": true
    },
    "kernelspec": {
      "name": "python3",
      "display_name": "Python 3"
    }
  },
  "cells": [
    {
      "cell_type": "markdown",
      "metadata": {
        "id": "view-in-github",
        "colab_type": "text"
      },
      "source": [
        "<a href=\"https://colab.research.google.com/github/jruiz1968/03MAIR---Algoritmos-de-Optimizacion---2019/blob/master/AG3JulioRuiz.ipynb\" target=\"_parent\"><img src=\"https://colab.research.google.com/assets/colab-badge.svg\" alt=\"Open In Colab\"/></a>"
      ]
    },
    {
      "cell_type": "code",
      "metadata": {
        "id": "lUgvRol5Jakk",
        "colab_type": "code",
        "colab": {}
      },
      "source": [
        "#Actividad Guiada 3\n",
        "#Julio Ruiz\n",
        "http\\\\elib.zib.de/pub/mp-testdata/tsp/tsplib"
      ],
      "execution_count": 0,
      "outputs": []
    },
    {
      "cell_type": "code",
      "metadata": {
        "id": "uR4zXYqKN_Xh",
        "colab_type": "code",
        "outputId": "64c05143-69fa-4a1a-d671-1052f6a3dbdd",
        "colab": {
          "base_uri": "https://localhost:8080/",
          "height": 547
        }
      },
      "source": [
        "!pip install request"
      ],
      "execution_count": 0,
      "outputs": [
        {
          "output_type": "stream",
          "text": [
            "Collecting request\n",
            "  Downloading https://files.pythonhosted.org/packages/f1/27/7cbde262d854aedf217061a97020d66a63163c5c04e0ec02ff98c5d8f44e/request-2019.4.13.tar.gz\n",
            "Collecting get (from request)\n",
            "  Downloading https://files.pythonhosted.org/packages/3f/ef/bb46f77f7220ac1b7edba0c76d810c89fddb24ddd8c08f337b9b4a618db7/get-2019.4.13.tar.gz\n",
            "Collecting post (from request)\n",
            "  Downloading https://files.pythonhosted.org/packages/0f/05/bd79da5849ea6a92485ed7029ef97b1b75e55c26bc0ed3a7ec769af666f3/post-2019.4.13.tar.gz\n",
            "Requirement already satisfied: setuptools in /usr/local/lib/python3.6/dist-packages (from request) (41.2.0)\n",
            "Collecting query_string (from get->request)\n",
            "  Downloading https://files.pythonhosted.org/packages/12/3c/412a45daf5bea9b1d06d7de41787ec4168001dfa418db7ec8723356b119f/query-string-2019.4.13.tar.gz\n",
            "Collecting public (from query_string->get->request)\n",
            "  Downloading https://files.pythonhosted.org/packages/54/4d/b40004cc6c07665e48af22cfe1e631f219bf4282e15fa76a5b6364f6885c/public-2019.4.13.tar.gz\n",
            "Building wheels for collected packages: request, get, post, query-string, public\n",
            "  Building wheel for request (setup.py) ... \u001b[?25l\u001b[?25hdone\n",
            "  Created wheel for request: filename=request-2019.4.13-cp36-none-any.whl size=1676 sha256=8bc1c9697f3f84555c2c83d9055a57b5b9e5bdd777ac37cfd3886182fe3caed5\n",
            "  Stored in directory: /root/.cache/pip/wheels/30/84/5f/484cfba678967ef58c16fce6890925d5c7172622f20111fbfd\n",
            "  Building wheel for get (setup.py) ... \u001b[?25l\u001b[?25hdone\n",
            "  Created wheel for get: filename=get-2019.4.13-cp36-none-any.whl size=1692 sha256=c34b3e853b431d3ecf86ab061054e0829d5e3202b67ba596fdb83b6a167ca7fd\n",
            "  Stored in directory: /root/.cache/pip/wheels/c1/e3/c1/d02c8c58538853e4c9b78cadb74f6d5c5c370b48a69a7271aa\n",
            "  Building wheel for post (setup.py) ... \u001b[?25l\u001b[?25hdone\n",
            "  Created wheel for post: filename=post-2019.4.13-cp36-none-any.whl size=1661 sha256=1b700e9b8d35f204812ebdd208855ca6e6bf4ae590a801fcd8f498cb320f3a4f\n",
            "  Stored in directory: /root/.cache/pip/wheels/c3/c3/24/b5c132b537ab380c02d69e6bd4dec1f5db56b5fe19030473d7\n",
            "  Building wheel for query-string (setup.py) ... \u001b[?25l\u001b[?25hdone\n",
            "  Created wheel for query-string: filename=query_string-2019.4.13-cp36-none-any.whl size=2049 sha256=76cbc3f64a3f781f0c6c8fd040b329970bcea4520214e00310f654d1bdf3a033\n",
            "  Stored in directory: /root/.cache/pip/wheels/d6/a4/78/01b20a9dc224dcc009fab669f7f27b943b8889c5150bd68d8a\n",
            "  Building wheel for public (setup.py) ... \u001b[?25l\u001b[?25hdone\n",
            "  Created wheel for public: filename=public-2019.4.13-cp36-none-any.whl size=2536 sha256=0c24b705a39c150306ffcfa9bf2bb17191ebe45873f1f404638b947576d802f0\n",
            "  Stored in directory: /root/.cache/pip/wheels/23/7c/6e/f5b4e09d6596c8b8802b347e48f149031e2363368048f1347a\n",
            "Successfully built request get post query-string public\n",
            "Installing collected packages: public, query-string, get, post, request\n",
            "Successfully installed get-2019.4.13 post-2019.4.13 public-2019.4.13 query-string-2019.4.13 request-2019.4.13\n"
          ],
          "name": "stdout"
        }
      ]
    },
    {
      "cell_type": "code",
      "metadata": {
        "id": "dfelbZYzOxzy",
        "colab_type": "code",
        "outputId": "e95b19a0-0eda-48d7-8afc-a1f31ad8a477",
        "colab": {
          "base_uri": "https://localhost:8080/",
          "height": 34
        }
      },
      "source": [
        "import urllib.request\n",
        "file='swiss42.tsp'\n",
        "urllib.request.urlretrieve('http://elib.zib.de/pub/mp-testdata/tsp/tsplib/tsp/swiss42.tsp',file)\n"
      ],
      "execution_count": 0,
      "outputs": [
        {
          "output_type": "execute_result",
          "data": {
            "text/plain": [
              "('swiss42.tsp', <http.client.HTTPMessage at 0x7fc94c6a2320>)"
            ]
          },
          "metadata": {
            "tags": []
          },
          "execution_count": 6
        }
      ]
    },
    {
      "cell_type": "code",
      "metadata": {
        "id": "14UFBK7FQcKv",
        "colab_type": "code",
        "outputId": "d3504e31-3e78-4827-86bc-af58edcabc1b",
        "colab": {
          "base_uri": "https://localhost:8080/",
          "height": 34
        }
      },
      "source": [
        "!ls"
      ],
      "execution_count": 0,
      "outputs": [
        {
          "output_type": "stream",
          "text": [
            "sample_data  swiss42.tsp\n"
          ],
          "name": "stdout"
        }
      ]
    },
    {
      "cell_type": "code",
      "metadata": {
        "id": "Xfp7l1jmRFY-",
        "colab_type": "code",
        "colab": {}
      },
      "source": [
        "#https://tsplib95.readthedoc.io/installation.html\n"
      ],
      "execution_count": 0,
      "outputs": []
    },
    {
      "cell_type": "code",
      "metadata": {
        "id": "iwCLjPK8Redt",
        "colab_type": "code",
        "outputId": "d9d7c5ac-5a09-45d3-bf81-b5cfb1af828b",
        "colab": {
          "base_uri": "https://localhost:8080/",
          "height": 323
        }
      },
      "source": [
        "!pip install tsplib95"
      ],
      "execution_count": 0,
      "outputs": [
        {
          "output_type": "stream",
          "text": [
            "Collecting tsplib95\n",
            "  Downloading https://files.pythonhosted.org/packages/90/9f/5fbf6118d00719cc4688b175a04da09b89c3780db6b0c55bc646a20a6a07/tsplib95-0.3.3-py2.py3-none-any.whl\n",
            "Collecting networkx==2.1 (from tsplib95)\n",
            "\u001b[?25l  Downloading https://files.pythonhosted.org/packages/11/42/f951cc6838a4dff6ce57211c4d7f8444809ccbe2134179950301e5c4c83c/networkx-2.1.zip (1.6MB)\n",
            "\u001b[K     |████████████████████████████████| 1.6MB 4.1MB/s \n",
            "\u001b[?25hRequirement already satisfied: Click>=6.0 in /usr/local/lib/python3.6/dist-packages (from tsplib95) (7.0)\n",
            "Requirement already satisfied: decorator>=4.1.0 in /usr/local/lib/python3.6/dist-packages (from networkx==2.1->tsplib95) (4.4.0)\n",
            "Building wheels for collected packages: networkx\n",
            "  Building wheel for networkx (setup.py) ... \u001b[?25l\u001b[?25hdone\n",
            "  Created wheel for networkx: filename=networkx-2.1-py2.py3-none-any.whl size=1447766 sha256=bd10a7989679d98b4eb75b2ca7634419d5bcded535ab2e6b72996879f9e64500\n",
            "  Stored in directory: /root/.cache/pip/wheels/44/c0/34/6f98693a554301bdb405f8d65d95bbcd3e50180cbfdd98a94e\n",
            "Successfully built networkx\n",
            "\u001b[31mERROR: albumentations 0.1.12 has requirement imgaug<0.2.7,>=0.2.5, but you'll have imgaug 0.2.9 which is incompatible.\u001b[0m\n",
            "Installing collected packages: networkx, tsplib95\n",
            "  Found existing installation: networkx 2.3\n",
            "    Uninstalling networkx-2.3:\n",
            "      Successfully uninstalled networkx-2.3\n",
            "Successfully installed networkx-2.1 tsplib95-0.3.3\n"
          ],
          "name": "stdout"
        }
      ]
    },
    {
      "cell_type": "code",
      "metadata": {
        "id": "-IUR2QBbRpQT",
        "colab_type": "code",
        "colab": {}
      },
      "source": [
        "import tsplib95\n",
        "import random\n",
        "from math import e"
      ],
      "execution_count": 0,
      "outputs": []
    },
    {
      "cell_type": "code",
      "metadata": {
        "id": "_qX6THyMSiCs",
        "colab_type": "code",
        "outputId": "a252a67f-a9b8-4e90-81a4-483d6135b6c1",
        "colab": {
          "base_uri": "https://localhost:8080/",
          "height": 34
        }
      },
      "source": [
        "problem= tsplib95.load_problem(file)\n",
        "print(problem)"
      ],
      "execution_count": 0,
      "outputs": [
        {
          "output_type": "stream",
          "text": [
            "<tsplib95.models.Problem object at 0x7fc94c604be0>\n"
          ],
          "name": "stdout"
        }
      ]
    },
    {
      "cell_type": "code",
      "metadata": {
        "id": "x_DCAkq7TA2y",
        "colab_type": "code",
        "outputId": "65188f57-e6c4-40f9-8f24-e35ebc4ae531",
        "colab": {
          "base_uri": "https://localhost:8080/",
          "height": 34
        }
      },
      "source": [
        "problem= tsplib95.load_problem(file)\n",
        "problem.get_nodes()"
      ],
      "execution_count": 0,
      "outputs": [
        {
          "output_type": "execute_result",
          "data": {
            "text/plain": [
              "<range_iterator at 0x7fc94ceb3840>"
            ]
          },
          "metadata": {
            "tags": []
          },
          "execution_count": 11
        }
      ]
    },
    {
      "cell_type": "code",
      "metadata": {
        "id": "J2058ZxeThNT",
        "colab_type": "code",
        "outputId": "17d4e5d6-1f8d-445d-83cd-0115809ca752",
        "colab": {
          "base_uri": "https://localhost:8080/",
          "height": 34
        }
      },
      "source": [
        "problem= tsplib95.load_problem(file)\n",
        "\n",
        "Nodos = list(problem.get_nodes())\n",
        "list(problem.get_nodes())\n",
        "list(problem.get_edges())\n",
        "\n",
        "\n",
        "problem.wfunc(0,2)\n"
      ],
      "execution_count": 0,
      "outputs": [
        {
          "output_type": "execute_result",
          "data": {
            "text/plain": [
              "30"
            ]
          },
          "metadata": {
            "tags": []
          },
          "execution_count": 12
        }
      ]
    },
    {
      "cell_type": "code",
      "metadata": {
        "id": "b09FAiVIVqkC",
        "colab_type": "code",
        "outputId": "2df8546f-0450-4c9e-d162-5f08664bea66",
        "colab": {
          "base_uri": "https://localhost:8080/",
          "height": 54
        }
      },
      "source": [
        "def distancia(a,b,problem):\n",
        "    return problem.wfunc(a,b)\n",
        "  \n",
        "def crear_solucion(Nodos):\n",
        "  solucion =[0]\n",
        "  for _ in range(len(Nodos)-1):\n",
        "    solucion = solucion +[random.choice(list(set(Nodos) - set({0}) - set(solucion)))]\n",
        "    \n",
        "  return solucion  \n",
        "\n",
        "\n",
        "def distancia_total(solucion,problem):\n",
        "  distancia_ret = 0\n",
        "  for i in range (len(solucion)-1):\n",
        "     distancia_ret+= distancia(solucion[i], solucion[i+1],problem)\n",
        "  return distancia_ret+ distancia(solucion[len(solucion)-1], solucion[0], problem)\n",
        "\n",
        "\n",
        "solucion_prueba =crear_solucion(Nodos)\n",
        "\n",
        "print(distancia_total(solucion_prueba, problem) , solucion_prueba)"
      ],
      "execution_count": 0,
      "outputs": [
        {
          "output_type": "stream",
          "text": [
            "5222 [0, 2, 41, 12, 7, 9, 36, 38, 18, 17, 14, 1, 4, 16, 39, 29, 10, 3, 24, 26, 35, 27, 34, 11, 19, 6, 22, 30, 32, 8, 5, 37, 21, 25, 33, 23, 28, 13, 20, 40, 15, 31]\n"
          ],
          "name": "stdout"
        }
      ]
    },
    {
      "cell_type": "code",
      "metadata": {
        "id": "xyLspQuFfoTQ",
        "colab_type": "code",
        "colab": {}
      },
      "source": [
        "def busqueda_aleatoria(problem,N):\n",
        "  Nodos = list(problem.get_nodes())\n",
        "  \n",
        "  mejor_solucion = []\n",
        "  mejor_distancia= 10e10\n",
        "  \n",
        "  for i in range(N):\n",
        "    solucion = crear_solucion(Nodos)\n",
        "    distancia_solucion = distancia_total(solucion, problem)\n",
        "    \n",
        "    if distancia_solucion < mejor_distancia:\n",
        "      mejor_solucion = solucion\n",
        "      mejor_distancia = distancia_solucion\n",
        "      \n",
        "  print(mejor_distancia, mejor_solucion)\n",
        "  return mejor_solucion\n",
        "\n",
        "busqueda_aleatoria(problem, 5000)\n",
        "\n"
      ],
      "execution_count": 0,
      "outputs": []
    },
    {
      "cell_type": "code",
      "metadata": {
        "id": "RzMbJZOJjZSr",
        "colab_type": "code",
        "colab": {}
      },
      "source": [
        "def generar_vecina(solucion, problem):\n",
        "  mejor_solucion = []\n",
        "  mejor_distancia = 10e10\n",
        "  for i in range(1, len(solucion)-1):\n",
        "    for j in range(i+1, len(solucion)):\n",
        "      vecina = solucion[:i] + [solucion[j]] + solucion[i+1:j] + [solucion[i]] + solucion[j+1:]\n",
        "      distancia_vecina = distancia_total(vecina,problem)\n",
        "      if distancia_vecina < mejor_distancia:\n",
        "        mejor_solucion = vecina\n",
        "        mejor_distancia= distancia_vecina\n",
        "  return mejor_solucion\n",
        "\n"
      ],
      "execution_count": 0,
      "outputs": []
    },
    {
      "cell_type": "code",
      "metadata": {
        "id": "W_4xbTPBpdjp",
        "colab_type": "code",
        "colab": {}
      },
      "source": [
        "def busqueda_local(problem,N):\n",
        "  mejor_solucion = []\n",
        "  mejor_distancia = 10e10\n",
        "  \n",
        "  Nodos = list(problem.get_nodes())\n",
        "  \n",
        "  solucion_referencia = crear_solucion(Nodos)\n",
        "  \n",
        "  for i in range(N):\n",
        "    vecina = generar_vecina(solucion_referencia, problem)\n",
        "    distancia_vecina = distancia_total(vecina, problem)\n",
        "    if distancia_vecina < mejor_distancia:\n",
        "        mejor_solucion = vecina\n",
        "        mejor_distancia= distancia_vecina\n",
        "        \n",
        "    solucion_referencia = mejor_solucion\n",
        "    \n",
        "  print(distancia_total(mejor_solucion, problem), mejor_solucion)\n",
        "    \n",
        "  return mejor_solucion\n",
        "\n",
        "busqueda_local(problem,100)"
      ],
      "execution_count": 0,
      "outputs": []
    },
    {
      "cell_type": "code",
      "metadata": {
        "id": "JQRnYR8Rjfv8",
        "colab_type": "code",
        "colab": {}
      },
      "source": [
        "#Funcion de probabilidad para aceptar peores soluciones\n",
        "\n",
        "def probabilidad(T,d):\n",
        "  r=random.random()\n",
        "   \n",
        "  if r>=(e**(-1*d)/((T*.5*10**(-5)))):\n",
        "    return True\n",
        "  else:\n",
        "    return False\n",
        "  \n",
        "#Funcion de descenso de temperatura\n",
        "def bajar_temperatura(T):\n",
        "  return T*0.9"
      ],
      "execution_count": 0,
      "outputs": []
    },
    {
      "cell_type": "code",
      "metadata": {
        "id": "fI988mwqtgoX",
        "colab_type": "code",
        "outputId": "4edf6e29-8e03-414b-c2f1-51a2869bfa6e",
        "colab": {
          "base_uri": "https://localhost:8080/",
          "height": 768
        }
      },
      "source": [
        "def recocido_simulado(problem, TEMPERATURA):\n",
        "\n",
        "    solucion_referencia = crear_solucion(Nodos)\n",
        "  \n",
        "    distancia_referencia = distancia_total(solucion_referencia, problem)\n",
        "    \n",
        "    mejor_solucion = []\n",
        "    mejor_distancia = 10e10\n",
        "    \n",
        "    while TEMPERATURA > 1:\n",
        "      vecina = generar_vecina(solucion_referencia,problem)\n",
        "      distancia_vecina= distancia_total(vecina, problem)\n",
        "      \n",
        "      if distancia_vecina<mejor_distancia:\n",
        "        mejor_solucion = vecina\n",
        "        mejor_distancia= distancia_vecina\n",
        "        \n",
        "      if distancia_vecina < distancia_referencia or probabilidad(TEMPERATURA, abs(distancia_referencia - distancia_vecina)):\n",
        "        solucion_referencia=vecina\n",
        "        distancia_referencia= distancia_vecina\n",
        "        \n",
        "      TEMPERATURA = bajar_temperatura(TEMPERATURA)\n",
        "      \n",
        "      print(mejor_distancia, mejor_solucion)\n",
        "    \n",
        "      return mejor_solucion\n",
        "    \n",
        "recocido_simulado(problem, 1000)\n",
        "    "
      ],
      "execution_count": 0,
      "outputs": [
        {
          "output_type": "stream",
          "text": [
            "4336 [0, 36, 16, 3, 35, 38, 27, 28, 19, 7, 41, 31, 5, 13, 10, 6, 33, 17, 21, 2, 15, 23, 8, 22, 20, 32, 34, 29, 12, 18, 24, 26, 14, 30, 4, 39, 40, 9, 25, 11, 1, 37]\n"
          ],
          "name": "stdout"
        },
        {
          "output_type": "execute_result",
          "data": {
            "text/plain": [
              "[0,\n",
              " 36,\n",
              " 16,\n",
              " 3,\n",
              " 35,\n",
              " 38,\n",
              " 27,\n",
              " 28,\n",
              " 19,\n",
              " 7,\n",
              " 41,\n",
              " 31,\n",
              " 5,\n",
              " 13,\n",
              " 10,\n",
              " 6,\n",
              " 33,\n",
              " 17,\n",
              " 21,\n",
              " 2,\n",
              " 15,\n",
              " 23,\n",
              " 8,\n",
              " 22,\n",
              " 20,\n",
              " 32,\n",
              " 34,\n",
              " 29,\n",
              " 12,\n",
              " 18,\n",
              " 24,\n",
              " 26,\n",
              " 14,\n",
              " 30,\n",
              " 4,\n",
              " 39,\n",
              " 40,\n",
              " 9,\n",
              " 25,\n",
              " 11,\n",
              " 1,\n",
              " 37]"
            ]
          },
          "metadata": {
            "tags": []
          },
          "execution_count": 36
        }
      ]
    },
    {
      "cell_type": "code",
      "metadata": {
        "id": "oj1Yb4k2zPKN",
        "colab_type": "code",
        "colab": {}
      },
      "source": [
        "def hormigas(problem,N):\n",
        "  #problem= datos del problema\n",
        "  #N=Numero de agentes (hormigas)\n",
        "\n",
        "  #Nodos\n",
        "  Nodos= list(problem.get_nodes())\n",
        "  #Aristas\n",
        "  Aristas = list(problem.get_edges())\n",
        "  \n",
        "  #Inicializa las aristas con una cantidad inicial de feromonas:1\n",
        "  #Mejora: inicializaf con valores diferentes dependiendo diferentes criterios\n",
        "  \n",
        "  T=[(1 for _ in range(len(Nodos)))] for _ in range(len(Nodos))\n",
        "  \n",
        "  #se regeneran los agentes hormigas que seran estructuras de caminos desde 0\n",
        "  Hormiga = [[0] for _ in range(N)]\n",
        "  \n",
        "  #Recorre cada agente construyendo la solucion\n",
        "  \n",
        "  for h in range(N):\n",
        "    #Para cada agente se construye un camino\n",
        "    for i in range(len(Nodos)-1):\n",
        "      \n",
        "      #Elige el siguiente nodo\n",
        "      Nuevo_Nodo = Add_Nodo(problem, Hormiga[h] , T)\n",
        "      Hormiga[h].append(Nuevo_Nodo)\n",
        "      \n",
        "      #Incrementa feromonas en esa arista\n",
        "      T= Incrementa_Feromona(problem, T, Hormiga[h])\n",
        "      \n",
        "      #print(\"Feromonas(1)\", T)\n",
        "      \n",
        "      #Evapora Feromonas\n",
        "      \n",
        "    \n",
        "  "
      ],
      "execution_count": 0,
      "outputs": []
    }
  ]
}
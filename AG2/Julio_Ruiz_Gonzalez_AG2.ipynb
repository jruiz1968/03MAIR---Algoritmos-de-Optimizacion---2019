{
  "nbformat": 4,
  "nbformat_minor": 0,
  "metadata": {
    "colab": {
      "name": "Untitled0.ipynb",
      "version": "0.3.2",
      "provenance": [],
      "collapsed_sections": [],
      "include_colab_link": true
    },
    "kernelspec": {
      "name": "python3",
      "display_name": "Python 3"
    }
  },
  "cells": [
    {
      "cell_type": "markdown",
      "metadata": {
        "id": "view-in-github",
        "colab_type": "text"
      },
      "source": [
        "<a href=\"https://colab.research.google.com/github/jruiz1968/03MAIR---Algoritmos-de-Optimizacion---2019/blob/master/AG2/Julio_Ruiz_Gonzalez_AG2.ipynb\" target=\"_parent\"><img src=\"https://colab.research.google.com/assets/colab-badge.svg\" alt=\"Open In Colab\"/></a>"
      ]
    },
    {
      "cell_type": "code",
      "metadata": {
        "id": "wbyhmwNOiypt",
        "colab_type": "code",
        "colab": {}
      },
      "source": [
        "TARIFAS=[[0,5,4,3,999,999,999],\n",
        "        [999,0,999,2,3,999,1],\n",
        "        [999,999,0,1,999,4,10],\n",
        "        [999,999,999,0,5,6,9],\n",
        "        [999,999,999,999,0,999,4],\n",
        "        [999,999,999,999,999,0,3],\n",
        "        [999,999,999,999,999,999,0]]"
      ],
      "execution_count": 0,
      "outputs": []
    },
    {
      "cell_type": "code",
      "metadata": {
        "id": "0EkRqrG-mMam",
        "colab_type": "code",
        "colab": {
          "base_uri": "https://localhost:8080/",
          "height": 87
        },
        "outputId": "5731f6a6-39eb-447f-d4d1-fa6c13c0c564"
      },
      "source": [
        "def Precios (TARIFAS):\n",
        "  \n",
        "  N= len(TARIFAS[0])\n",
        "  \n",
        "  PRECIOS = [[9999]*N for i in [9999]*N ]\n",
        "  RUTA=[[\"\"]*N for i in [\"\"]*N]\n",
        "  \n",
        "  for i in range(N-1):\n",
        "      for j in range(i+1,N):\n",
        "        MIN=TARIFAS[i][j]\n",
        "        RUTA[i][j]=i\n",
        "        \n",
        "        for k in range (i,j):\n",
        "          if PRECIOS[i][k] + TARIFAS[k][j] < MIN:\n",
        "            MIN = PRECIOS[i][k] + TARIFAS[k][j]\n",
        "            RUTA[i][j] = k\n",
        "        PRECIOS[i][j] = MIN\n",
        "  return PRECIOS, RUTA\n",
        "\n",
        "PRECIOS,RUTA= Precios(TARIFAS)\n",
        "print(PRECIOS)\n",
        "print(RUTA)\n",
        "#CALCULAR LA MEJOR RUTA\n",
        "\n",
        "def calcular_ruta(RUTA, desde, hasta):\n",
        "  if desde==hasta:\n",
        "    return desde\n",
        "  else:\n",
        "    return str(calcular_ruta(RUTA, desde, RUTA[desde][hasta])) + '-' + str(RUTA[desde][hasta])\n",
        "  \n",
        "calcular_ruta(RUTA,1,5)\n",
        "                                                                           \n"
      ],
      "execution_count": 20,
      "outputs": [
        {
          "output_type": "stream",
          "text": [
            "[[9999, 5, 4, 3, 8, 8, 6], [9999, 9999, 999, 2, 3, 8, 1], [9999, 9999, 9999, 1, 6, 4, 7], [9999, 9999, 9999, 9999, 5, 6, 9], [9999, 9999, 9999, 9999, 9999, 999, 4], [9999, 9999, 9999, 9999, 9999, 9999, 3], [9999, 9999, 9999, 9999, 9999, 9999, 9999]]\n",
            "[['', 0, 0, 0, 1, 2, 1], ['', '', 1, 1, 1, 3, 1], ['', '', '', 2, 3, 2, 5], ['', '', '', '', 3, 3, 3], ['', '', '', '', '', 4, 4], ['', '', '', '', '', '', 5], ['', '', '', '', '', '', '']]\n"
          ],
          "name": "stdout"
        },
        {
          "output_type": "execute_result",
          "data": {
            "text/plain": [
              "'1-1-3'"
            ]
          },
          "metadata": {
            "tags": []
          },
          "execution_count": 20
        }
      ]
    },
    {
      "cell_type": "markdown",
      "metadata": {
        "id": "GM7E_7k81835",
        "colab_type": "text"
      },
      "source": [
        "Asignacion de tareas. Ramificacion y poda"
      ]
    },
    {
      "cell_type": "code",
      "metadata": {
        "id": "Fl17XUGN2Hug",
        "colab_type": "code",
        "colab": {}
      },
      "source": [
        ""
      ],
      "execution_count": 0,
      "outputs": []
    },
    {
      "cell_type": "code",
      "metadata": {
        "id": "oGCugyqJfYEg",
        "colab_type": "code",
        "colab": {}
      },
      "source": [
        "import itertools\n",
        "from functools import wraps\n",
        "\n",
        "def calcular_tiempo(f):\n",
        "  @wraps(f)\n",
        "  def cronometro(*args, **kwargs):\n",
        "    t_inicial = time()\n",
        "    salida= f(*args,**kwargs)\n",
        "    t_final= time()\n",
        "    print('Tiempo transcurrido ( en segundos): {}', format(t_final - t_inicial))\n",
        "    return salida\n",
        "  return cronometro"
      ],
      "execution_count": 0,
      "outputs": []
    },
    {
      "cell_type": "code",
      "metadata": {
        "id": "69Lz_6VT3-dO",
        "colab_type": "code",
        "colab": {}
      },
      "source": [
        "COSTES=[[11,12,18,40],\n",
        "       [14,15,13,22],\n",
        "       [11,17,19,23],\n",
        "       [17,14,20,28]]"
      ],
      "execution_count": 0,
      "outputs": []
    },
    {
      "cell_type": "code",
      "metadata": {
        "id": "KgVZjoTodnQc",
        "colab_type": "code",
        "colab": {
          "base_uri": "https://localhost:8080/",
          "height": 34
        },
        "outputId": "4275fc9e-4f6d-46ed-e8b0-2d79b6297a58"
      },
      "source": [
        "def valor(S,COSTES):\n",
        "    VALOR=0\n",
        "    for i in range(len(S)):\n",
        "      VALOR+= COSTES[S[i]][i]\n",
        "      \n",
        "    return VALOR\n",
        "  \n",
        "valor ((0,1,2,3), COSTES)"
      ],
      "execution_count": 27,
      "outputs": [
        {
          "output_type": "execute_result",
          "data": {
            "text/plain": [
              "73"
            ]
          },
          "metadata": {
            "tags": []
          },
          "execution_count": 27
        }
      ]
    },
    {
      "cell_type": "markdown",
      "metadata": {
        "id": "_HtgUVvbez3I",
        "colab_type": "text"
      },
      "source": [
        "POR FUERZA BRUTA"
      ]
    },
    {
      "cell_type": "code",
      "metadata": {
        "id": "IKG7au0Ye2jv",
        "colab_type": "code",
        "colab": {
          "base_uri": "https://localhost:8080/",
          "height": 34
        },
        "outputId": "2cafe5a5-d339-4f81-b739-5c4f3d99c8b4"
      },
      "source": [
        "def fuerza_bruta(COSTES):\n",
        "    mejor_valor=10e10\n",
        "    mejor_solucion= ''\n",
        "    \n",
        "    for S in list(itertools.permutations(range(len(COSTES)))):\n",
        "      valor_tmp = valor(S, COSTES)\n",
        "      if valor_tmp < mejor_valor:\n",
        "        mejor_solucion=S\n",
        "        mejor_valor=valor_tmp\n",
        "        \n",
        "    print(\"La mejor solucion es :\" ,mejor_solucion)\n",
        "    \n",
        "    \n",
        "fuerza_bruta(COSTES)\n"
      ],
      "execution_count": 28,
      "outputs": [
        {
          "output_type": "stream",
          "text": [
            "La mejor solucion es : (0, 3, 1, 2)\n"
          ],
          "name": "stdout"
        }
      ]
    },
    {
      "cell_type": "code",
      "metadata": {
        "id": "NxdvSefsnuRc",
        "colab_type": "code",
        "colab": {
          "base_uri": "https://localhost:8080/",
          "height": 34
        },
        "outputId": "545fd6e5-1a17-4523-9c1a-e3778d8db163"
      },
      "source": [
        "# Funcion para estimar un coste inferior para una solucion parcial\n",
        "#Coste inferior para soluciones parciales\n",
        "#(1,3) Se asigna la tarea 1 al agente 0 y la tarea 3 al agente 1\n",
        "\n",
        "def CI(S,COSTES):\n",
        "  VALOR=0\n",
        "  #Valores Establecidos\n",
        "  for i in range(len(S)):\n",
        "    VALOR+= COSTES[i][S[i]]\n",
        "    \n",
        " #Estimacion\n",
        "  for i in range( len(COSTES)):\n",
        "    if i not in S:\n",
        "      VALOR+= min([COSTES[j][i] for j in range(len(S), len(COSTES))])\n",
        "  return VALOR    \n",
        "\n",
        "\n",
        "CI((2,0), COSTES)\n",
        "\n",
        "#(0,2)->(0,2,1),(0,2,3)\n",
        "\n",
        "#{'S':(0,2), 'ci':34}\n",
        "\n",
        "def crear_hijos(NODO, N):\n",
        "  HIJOS = []\n",
        "  for i in range(N):\n",
        "    if i not in NODO:\n",
        "      HIJOS:append({'S': NODO+(i,)})\n",
        "        \n",
        "  return HIJOS\n",
        "\n",
        "\n",
        "crear_hijos((0,2), 4)"
      ],
      "execution_count": 29,
      "outputs": [
        {
          "output_type": "execute_result",
          "data": {
            "text/plain": [
              "[]"
            ]
          },
          "metadata": {
            "tags": []
          },
          "execution_count": 29
        }
      ]
    },
    {
      "cell_type": "code",
      "metadata": {
        "id": "whgxV2ab3U0u",
        "colab_type": "code",
        "colab": {
          "base_uri": "https://localhost:8080/",
          "height": 84
        },
        "outputId": "46d446f2-7395-4443-b1ee-06f83874d20b"
      },
      "source": [
        "def ramificacion_y_poda(COSTES):\n",
        "  DIMENSION= len(COSTES)\n",
        "  #(0,1,2,3)\n",
        "  MEJOR_SOLUCION= tuple(i for i in range(DIMENSION))\n",
        "  \n",
        "  CotaSup= valor(MEJOR_SOLUCION,COSTES)\n",
        "  \n",
        "  NODOS=[]\n",
        "  NODOS.append({'S':(), 'ci': CI((), COSTES) })\n",
        "  \n",
        " \n",
        "  \n",
        "  iteracion=0\n",
        "  \n",
        "  while (len(NODOS)>0):\n",
        "    iteracion+=1\n",
        "    print('\\n#', iteracion)\n",
        "    \n",
        "    nodo_prometedor = min(NODOS, key=lambda x:x['ci'])\n",
        "    \n",
        "    #Hijos\n",
        "    \n",
        "    HIJOS= [{'S':x['S'], 'ci': CI(x['S'], COSTES)} for x in crear_hijos(nodo_prometedor['S'], DIMENSION)]\n",
        "    \n",
        "    NODO_FINAL = [x for x in HIJOS if len(x['S']) ==DIMENSION]\n",
        "    \n",
        "    if len(NODO_FINAL)>0:\n",
        "      if NODO_FINAL[0]['ci']< CotaSup:\n",
        "        CotaSup=NODO_FINAL[0]['ci']\n",
        "        MEJOR_SOLUCION=NODO_FINAL[0]\n",
        "        \n",
        "    #poda    \n",
        "    HIJOS=[x for x in HIJOS if x['ci']<CotaSup]\n",
        "    \n",
        "    #Eliminamos el nodo expandido\n",
        "    NODOS= [ x for x in NODOS if x['S'] != nodo_prometedor['S']]\n",
        "    \n",
        "    #Añadimos los hijos\n",
        "    NODOS.extend(HIJOS)\n",
        "    \n",
        "    print(NODOS)\n",
        "    \n",
        "  print('La mejor solucion es:', MEJOR_SOLUCION)\n",
        "  \n",
        "  \n",
        "\n",
        "ramificacion_y_poda(COSTES)\n",
        "  "
      ],
      "execution_count": 33,
      "outputs": [
        {
          "output_type": "stream",
          "text": [
            "\n",
            "# 1\n",
            "[]\n",
            "La mejor solucion es: (0, 1, 2, 3)\n"
          ],
          "name": "stdout"
        }
      ]
    },
    {
      "cell_type": "code",
      "metadata": {
        "id": "kGYQX9LhI-33",
        "colab_type": "code",
        "colab": {}
      },
      "source": [
        ""
      ],
      "execution_count": 0,
      "outputs": []
    }
  ]
}